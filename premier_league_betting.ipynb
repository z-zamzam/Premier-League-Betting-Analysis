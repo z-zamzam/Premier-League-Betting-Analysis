{
 "cells": [
  {
   "cell_type": "code",
   "execution_count": 19,
   "id": "9cfe2717",
   "metadata": {},
   "outputs": [],
   "source": [
    "import pandas as pd\n",
    "from sklearn.preprocessing import LabelEncoder\n",
    "from sklearn.metrics import accuracy_score, precision_score, recall_score, f1_score\n",
    "from tensorflow.keras.models import Sequential\n",
    "from tensorflow.keras.layers import Dense\n",
    "\n",
    "df = pd.read_csv('EnglandLeagues2.csv')"
   ]
  },
  {
   "cell_type": "code",
   "execution_count": 20,
   "id": "24277bfd",
   "metadata": {},
   "outputs": [],
   "source": [
    "# Data preprocessing\n",
    "df = df[[c for c in df if c not in ['FTR']] + ['FTR']]\n",
    "for i in range(0, len(df['FTR'])):\n",
    "    if df['FTR'][i] == 'H':\n",
    "        df.loc[i, 'FTRB'] = 1\n",
    "    elif df['FTR'][i] == 'D':  # Account for draw outcome\n",
    "        df.loc[i, 'FTRB'] = 0.5\n",
    "    else:\n",
    "        df.loc[i, 'FTRB'] = 0\n",
    "\n",
    "df = df.drop(['FTR', 'Date', 'Div', 'FTHG', 'FTAG', 'HTHG', 'HTAG', 'HTR', 'Time'], axis=1)\n",
    "df.dropna(inplace=True)\n",
    "# Splitting the dataset for training and validation\n",
    "df_2 = df.iloc[3000:,:]\n",
    "df = df.iloc[:3000,:]"
   ]
  },
  {
   "cell_type": "code",
   "execution_count": 21,
   "id": "e48b9661",
   "metadata": {},
   "outputs": [
    {
     "name": "stderr",
     "output_type": "stream",
     "text": [
      "C:\\Users\\ziadh\\AppData\\Local\\Temp\\ipykernel_3640\\937144811.py:7: FutureWarning: The default value of numeric_only in DataFrame.mean is deprecated. In a future version, it will default to False. In addition, specifying 'numeric_only=None' is deprecated. Select only valid columns or specify the value of numeric_only to silence this warning.\n",
      "  mean = X.mean(axis=0)\n"
     ]
    }
   ],
   "source": [
    "# Feature encoding and more preprocessing\n",
    "X = df.drop('FTRB', axis=1)\n",
    "Y = df.drop(['HomeTeam', 'AwayTeam', 'B365H', 'B365D', 'B365A', 'BWH', 'BWD', 'BWA',\n",
    "       'IWH', 'IWD', 'IWA', 'PSH', 'PSD', 'PSA', 'WHH', 'WHD', 'WHA', 'VCH',\n",
    "       'VCD', 'VCA', 'MaxH', 'MaxD', 'MaxA', 'AvgH', 'AvgD', 'AvgA', 'B365>2.5', 'B365<2.5', 'P>2.5', 'P<2.5', 'Max>2.5', 'Max<2.5',\n",
    "       'Avg>2.5', 'Avg<2.5'], axis=1)\n",
    "mean = X.mean(axis=0)\n",
    "X -= mean\n",
    "std = X.std(axis=0)\n",
    "X /= std\n",
    "df[['HomeTeam', 'AwayTeam']] = df[['HomeTeam', 'AwayTeam']].apply(LabelEncoder().fit_transform)"
   ]
  },
  {
   "cell_type": "code",
   "execution_count": 22,
   "id": "6d3b241f",
   "metadata": {},
   "outputs": [],
   "source": [
    "# Creating the model\n",
    "model = Sequential()\n",
    "model.add(Dense(8, input_dim = len(X.columns), activation=\"relu\"))\n",
    "model.add(Dense(4, activation=\"relu\"))\n",
    "model.add(Dense(1, activation=\"sigmoid\"))"
   ]
  },
  {
   "cell_type": "code",
   "execution_count": null,
   "id": "cbdc8b51",
   "metadata": {},
   "outputs": [],
   "source": [
    "# Compiling and running fit on the model\n",
    "model.compile(loss=\"binary_crossentropy\", optimizer=\"rmsprop\", metrics=['accuracy', 'precision', 'recall', 'f1'])\n",
    "model.fit(x=X, y=Y, epochs=256, verbose=1)"
   ]
  },
  {
   "cell_type": "code",
   "execution_count": 49,
   "id": "a36e11fe",
   "metadata": {},
   "outputs": [
    {
     "name": "stdout",
     "output_type": "stream",
     "text": [
      "117/117 [==============================] - 0s 545us/step\n"
     ]
    }
   ],
   "source": [
    "prediction = model.predict(X)"
   ]
  },
  {
   "cell_type": "code",
   "execution_count": 41,
   "id": "916826b3",
   "metadata": {},
   "outputs": [
    {
     "name": "stdout",
     "output_type": "stream",
     "text": [
      "0.6632543103448276\n"
     ]
    }
   ],
   "source": [
    "my_accuracy = accuracy_score(Y, prediction.round())\n",
    "print(my_accuracy)"
   ]
  },
  {
   "cell_type": "code",
   "execution_count": null,
   "id": "def7adba",
   "metadata": {},
   "outputs": [],
   "source": [
    "for i in range(0, len(df['B365H'])):\n",
    "    if i in df['B365B'].index and df['B365B'][i] < 2:\n",
    "        Z.loc[i, 'B365B'] = int(1)\n",
    "    else:\n",
    "        Z.loc[i, 'B365B'] = int(0)\n",
    "for i in range(0, len(Z['Pred'])):\n",
    "    if i in Z['Pred'].index and Z['Pred'][i] < 0.5:\n",
    "        Z.loc[i, 'PredB'] = int(0)\n",
    "    else:\n",
    "        Z.loc[i, 'PredB'] = int(1)\n",
    "for i in range(0, len(Z['PredB'])):\n",
    "    if i in Z['Pred'].index and Z['PredB'][i] == Z['FTR'][i] and Z['B365B'][i] != Z['FTR'][i]:\n",
    "        Z.loc[i, 'PredBeat'] = int(1)\n",
    "    else:\n",
    "        Z.loc[i, 'PredBeat'] = int(0)\n",
    "for i in range(0, len(Z['Pred'])):\n",
    "    if i in Z['Pred'].index and Z['PredB'][i] == Z['FTR'][i]:\n",
    "        Z.loc[i, 'PredWin'] = int(1)\n",
    "    else:\n",
    "        Z.loc[i, 'PredWin'] = int(0)\n",
    "Z['FTR'] = df['FTRB']\n",
    "Z['Pred'] = prediction"
   ]
  },
  {
   "cell_type": "code",
   "execution_count": null,
   "id": "fc24a4b2",
   "metadata": {},
   "outputs": [],
   "source": [
    "# Convert the float labels back to their original categorical form\n",
    "y_true = df['FTRB'].map({1: 'H', 0.5: 'D', 0: 'A'}).values\n",
    "y_pred = prediction_rounded.flatten().map({1: 'H', 0.5: 'D', 0: 'A'}).values\n",
    "\n",
    "# Compute precision, recall, and F1-score for each class separately\n",
    "precision = precision_score(y_true, y_pred, average=None, labels=['H', 'D', 'A'])\n",
    "recall = recall_score(y_true, y_pred, average=None, labels=['H', 'D', 'A'])\n",
    "f1 = f1_score(y_true, y_pred, average=None, labels=['H', 'D', 'A'])\n",
    "\n",
    "print(\"Precision:\", precision)\n",
    "print(\"Recall:\", recall)\n",
    "print(\"F1-score:\", f1)"
   ]
  },
  {
   "cell_type": "code",
   "execution_count": 67,
   "id": "33861626",
   "metadata": {},
   "outputs": [],
   "source": []
  },
  {
   "cell_type": "code",
   "execution_count": 77,
   "id": "f7f6bae2",
   "metadata": {},
   "outputs": [],
   "source": []
  },
  {
   "cell_type": "code",
   "execution_count": 74,
   "id": "1090b7a6",
   "metadata": {},
   "outputs": [],
   "source": []
  },
  {
   "cell_type": "code",
   "execution_count": null,
   "id": "ff63c561",
   "metadata": {},
   "outputs": [],
   "source": []
  },
  {
   "cell_type": "code",
   "execution_count": 87,
   "id": "6866f301",
   "metadata": {},
   "outputs": [],
   "source": []
  },
  {
   "cell_type": "code",
   "execution_count": null,
   "id": "fe9da3ac",
   "metadata": {},
   "outputs": [],
   "source": []
  },
  {
   "cell_type": "code",
   "execution_count": null,
   "id": "2eff74f0",
   "metadata": {},
   "outputs": [],
   "source": []
  },
  {
   "cell_type": "code",
   "execution_count": null,
   "id": "167c74c8",
   "metadata": {},
   "outputs": [],
   "source": []
  },
  {
   "cell_type": "code",
   "execution_count": null,
   "id": "7d2b986e",
   "metadata": {},
   "outputs": [],
   "source": []
  }
 ],
 "metadata": {
  "kernelspec": {
   "display_name": "Python 3 (ipykernel)",
   "language": "python",
   "name": "python3"
  },
  "language_info": {
   "codemirror_mode": {
    "name": "ipython",
    "version": 3
   },
   "file_extension": ".py",
   "mimetype": "text/x-python",
   "name": "python",
   "nbconvert_exporter": "python",
   "pygments_lexer": "ipython3",
   "version": "3.11.2"
  }
 },
 "nbformat": 4,
 "nbformat_minor": 5
}
